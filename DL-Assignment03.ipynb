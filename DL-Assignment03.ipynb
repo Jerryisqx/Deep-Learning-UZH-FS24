{
 "cells": [
  {
   "cell_type": "markdown",
   "metadata": {},
   "source": [
    "### Group Members:\n",
    "\n",
    "- Qingxuan Chen, 23-743-065\n",
    "- Qingyu Jiang, 23-743-750"
   ]
  },
  {
   "attachments": {},
   "cell_type": "markdown",
   "metadata": {},
   "source": [
    "# Assignment 3: Universal Function Approximator\n",
    "\n",
    "\n",
    "The goal of this exercise is to train a two-layer fully-connected network to perform one-dimensional non-linear regression via gradient descent. To show the flexibility of the approach, three different functions will be approximated. First, the network and its gradient need to be implemented. Second, target data for three different functions will be generated. Finally, the training procedure will be applied to the data, and the resulting approximated function will be plotted together with the data samples.\n",
    "\n",
    "## Network Implementation\n",
    "\n",
    "A two-layer network is defined by parameters $\\Theta=(\\mathbf W^{(1)},\\vec w^{(2)})$ that are split into $\\mathbf W^{(1)}\\in\\mathbb R^{K\\times {(D+1)}}$ for the first layer and $\\vec w^{(2)}\\in\\mathbb R^{K+1}$ for the second layer. In our case, since we have only a single input, we have $D=1$.\n",
    "For a given input $\\vec x = (1, x)^T$, the network is implemented in three steps:\n",
    "\n",
    "1. Compute the first layer output, aka, the activation: $\\vec a_- = \\mathbf W^{(1)} \\vec x$\n",
    "2. Apply the activation function for each element of $\\vec a_- : \\vec h_- = g(\\vec a_-)$ and prepend the bias neuron $h_0=1$ to arrive at $\\vec h$.\n",
    "3. Compute the output of the network: $y = \\vec w^{(2)}\\ ^T\\vec h$.\n",
    "\n",
    "### Task 1  \n",
    "Implement a function that returns the network output for a given input $\\vec x$ and parameters $\\Theta=(\\mathbf W^{(1)}, \\vec w^{(2)})$. Remember that the input of the function $\\vec x = (1, x)^T$. Also remember to prepend $h_0=1$ in your implementation.\n",
    "\n",
    "We use sigmoid $(\\sigma)$ as the activation function:\n",
    "\n",
    "\\begin{equation*}\n",
    "    \\sigma(a) =  \\frac{\\mathrm{1} }{\\mathrm{1} + e^{-a} }\n",
    "\\end{equation*}\n",
    "\n",
    "Note:\n",
    "\n",
    "1. Use the `numpy` to implement the sigmoid function.\n",
    "2. Use `numpy.concatenate` or `numpy.insert` to prepend $h_0$.\n",
    "3. Make use of `numpy.dot` to compute matrix-vector and vector-vector products."
   ]
  },
  {
   "cell_type": "code",
   "execution_count": 22,
   "metadata": {},
   "outputs": [],
   "source": [
    "import numpy\n",
    "import math\n",
    "\n",
    "def logistic(x):\n",
    "    return 1 / (1 + numpy.exp(-x))\n",
    "\n",
    "def network(x, Theta):\n",
    "    W1, w2 = Theta\n",
    "    a_ = numpy.dot(W1, x)\n",
    "    h_ = logistic(a_)\n",
    "    h = numpy.concatenate(([1], h_))  # prepend the bias neuron\n",
    "    y = numpy.dot(w2.T, h)\n",
    "    return y, h"
   ]
  },
  {
   "attachments": {},
   "cell_type": "markdown",
   "metadata": {},
   "source": [
    "Test 1: Sanity Check\n",
    "----------------------------\n",
    "\n",
    "We select a specific number of hidden neurons and create the weights accordingly, using all zeros in the first layer and all ones in the second. The test case below assures that the function from Task 1 actually returns $11$ for those weights.\n",
    "\n",
    "Note: your function should pass the test below."
   ]
  },
  {
   "cell_type": "code",
   "execution_count": 23,
   "metadata": {},
   "outputs": [
    {
     "name": "stdout",
     "output_type": "stream",
     "text": [
      "Test passed\n"
     ]
    }
   ],
   "source": [
    "K = 20\n",
    "D = 1\n",
    "W1 = numpy.zeros((K, D+1))\n",
    "w2 = numpy.ones(K+1)\n",
    "x = numpy.random.rand(D+1)\n",
    "\n",
    "y, _ = network(x, (W1, w2))\n",
    "assert abs(11 - y) < 1e-6\n",
    "print(\"Test passed\")"
   ]
  },
  {
   "attachments": {},
   "cell_type": "markdown",
   "metadata": {},
   "source": [
    "## Gradient Implementation\n",
    "\n",
    "In order to perform gradient descent, we need to define a loss function. As provided in the lecture, the $\\mathcal J^{L_2}$ loss function is defined over a dataset $X=\\{(\\vec x^{[n]}, t^{[n]})\\}$, that is defined as a list of tuples, as follows:\n",
    "\n",
    "$$\n",
    "   \\mathcal J^{L_2} = \\frac{1}{N}\\sum_{i=1}^N (y^{[n]}-t^{[n]})^2\n",
    "$$\n",
    "\n",
    "where $y^{[n]}$ is the output of the network from Task 1 when inputting $\\vec x^{[n]}$. Interestingly, however, we never explicitly need to compute the output of the loss function. It is only used to analytically compute the gradient as shown in the lecture.\n",
    "\n",
    "The gradient is composed of two items, one for each layer. Particularly, for a given dataset $X$, the gradient of loss $J^{L_2}$ is defined as:\n",
    "\n",
    "\\begin{align}\n",
    "  \\frac{\\partial \\mathcal J}{\\partial w_{kd}^{(1)}} &= \\frac{2}{N} \\sum\\limits_{n=1}^N (y^{[n]}-t^{[n]}) w_{k}^{(2)} (1-h_{k}^{[n]}) h_{k}^{[n]} x_{d}^{[n]}\\\\\n",
    "  \\frac{\\partial \\mathcal J}{\\partial w_{k}^{(2)}} &= \\frac{2}{N} \\sum\\limits_{n=1}^N (y^{[n]}-t^{[n]}) h_{k}^{[n]}\n",
    "\\end{align}\n",
    "\n",
    "### Task 2\n",
    "Implement a function that returns the gradient as defined in $(1)$ and $(2)$ for a given dataset $X$, and given weights $\\Theta=(\\mathbf W^{(1)},\\vec w^{(2)})$. Make sure that both parts of the gradient are computed. \n",
    "\n",
    "Hint:\n",
    "\n",
    "1. Make use of the the function implemented in Task 1 where appropriate\n",
    "\n",
    "Note:\n",
    "\n",
    "  1. This is a slow implementation. We will see how to speed this up in the next lecture.\n",
    "  2. You can make use of `numpy.zeros` to initialize the gradient.\n",
    "  3. The outer product can be computed via `numpy.outer`.\n",
    "  4. Remember that we used the $logistic$ activation function in our network."
   ]
  },
  {
   "cell_type": "code",
   "execution_count": 24,
   "metadata": {},
   "outputs": [],
   "source": [
    "def gradient(X, Theta):\n",
    "    W1, w2 = Theta\n",
    "    N = len(X)\n",
    "    \n",
    "    # Initialize gradients as zeros\n",
    "    dW1 = numpy.zeros(W1.shape)\n",
    "    dw2 = numpy.zeros(w2.shape)\n",
    "    \n",
    "    # Iterate over the dataset\n",
    "    for x, t in X:\n",
    "        # Get network output and hidden layer\n",
    "        y, h = network(x, Theta)\n",
    "        \n",
    "        # Compute the common part of the gradients (y[n] - t[n])\n",
    "        common_part = (y - t)\n",
    "        \n",
    "        # Compute gradients for w2\n",
    "        dw2 += common_part * h\n",
    "        \n",
    "        # Compute gradients for W1\n",
    "        for k in range(W1.shape[0]):\n",
    "            for d in range(W1.shape[1]):\n",
    "                dW1[k, d] += common_part * w2[k+1] * h[k+1] * (1 - h[k+1]) * x[d]\n",
    "    \n",
    "    # Average the gradients\n",
    "    dW1 /= N\n",
    "    dw2 /= N\n",
    "    \n",
    "    return dW1, dw2"
   ]
  },
  {
   "attachments": {},
   "cell_type": "markdown",
   "metadata": {},
   "source": [
    "## Gradient Descent\n",
    "\n",
    "The procedure of gradient descent is the repeated application of two steps.\n",
    " \n",
    "1. The gradient of loss $\\nabla_{\\Theta}\\mathcal J^{L_2}$ is computed based on the current value of the parameters $\\Theta=(\\mathbf W^{(1)},\\vec w^{(2)})$.\n",
    "2. The weights are updated by moving a small step $\\eta$ into the direction of the negative gradient:\n",
    "\n",
    "$$\n",
    "    \\Theta = \\Theta - \\eta \\nabla_{\\Theta}\\mathcal J\n",
    "$$\n",
    "\n",
    "As stopping criterion, we select the number of training epochs to be 10000.\n",
    "\n",
    "### Task 3\n",
    "Implement a function that performs gradient descent for a given dataset $X$, given initial parameters $\\Theta$ and a given learning rate $\\eta$ and returns the optimized parameters $\\Theta^*$."
   ]
  },
  {
   "cell_type": "code",
   "execution_count": 25,
   "metadata": {},
   "outputs": [],
   "source": [
    "def gradient_descent(X, Theta, eta):\n",
    "    epochs = 10000\n",
    "    # Unpack Theta for easier manipulation\n",
    "    W1, w2 = Theta\n",
    "    \n",
    "    for epoch in range(epochs):\n",
    "        # Compute the gradient\n",
    "        dW1, dw2 = gradient(X, (W1, w2))\n",
    "        \n",
    "        # Update the parameters\n",
    "        W1 -= eta * dW1\n",
    "        w2 -= eta * dw2\n",
    "    \n",
    "    # Return optimized parameters\n",
    "    return W1, w2"
   ]
  },
  {
   "attachments": {},
   "cell_type": "markdown",
   "metadata": {},
   "source": [
    "## Generate Datasets\n",
    "\n",
    "In total, we will test our gradient descent function with three different datasets. Particularly, we approximate:\n",
    "\n",
    "1. $X_1: t = \\sin(3x)$ for $x\\in[-1,1]$\n",
    "2. $X_2: t = e^{-4x^2}$ for $x\\in[-1,1]$\n",
    "3. $X_3: t = x^5 + 3x^4 - 6x^3 -12x^2 + 5x + 129$ for $x\\in[-4,2.5]$\n",
    "\n",
    "### Task 4\n",
    "\n",
    "Generate dataset $X_1$, for $N=60$ samples randomly drawn from range $x\\in[-1,1]$. \n",
    "Generate data $X_2$ for $N=50$ samples randomly drawn from range $x\\in[-1,1]$. \n",
    "Generate dataset $X_3$ for $N=200$ samples randomly drawn from range $x\\in[-4,2.5]$. \n",
    "Implement all three datasets as lists of tuples: $\\{(\\vec x^{[n]}, t^{[n]})\\mid 1\\leq n\\leq N\\}$.\n",
    "\n",
    "Note:\n",
    "\n",
    "  1. You can use `numpy.random.uniform` to create uniformly distributed samples for $x$.\n",
    "  2. Make sure that $\\vec x = (1, x)^T$ for each sample.\n",
    "  3. You can make use of `numpy.sin`, `numpy.exp` and `numpy.pow` to compute target values."
   ]
  },
  {
   "cell_type": "code",
   "execution_count": 26,
   "metadata": {},
   "outputs": [],
   "source": [
    "N1 = 60\n",
    "N2 = 50\n",
    "N3 = 200\n",
    "\n",
    "# Generate datasets\n",
    "X1 = [((1, x), numpy.sin(3*x)) for x in numpy.random.uniform(-1, 1, N1)]\n",
    "X2 = [((1, x), numpy.exp(-4*x**2)) for x in numpy.random.uniform(-1, 1, N2)]\n",
    "X3 = [((1, x), x**5 + 3*x**4 - 6*x**3 - 12*x**2 + 5*x + 129) for x in numpy.random.uniform(-4, 2.5, N3)]"
   ]
  },
  {
   "attachments": {},
   "cell_type": "markdown",
   "metadata": {},
   "source": [
    "### Test 2: Sanity Check\n",
    "\n",
    "The test case below assures that the elements of each generated dataset are tuples with two elements, that the first element ($\\vec x$) is a vector with two numbers, and that the second element ($t$) is a float."
   ]
  },
  {
   "cell_type": "code",
   "execution_count": 27,
   "metadata": {},
   "outputs": [
    {
     "name": "stdout",
     "output_type": "stream",
     "text": [
      "Test passed!\n"
     ]
    }
   ],
   "source": [
    "assert all(\n",
    "    isinstance(x, (tuple,list)) and\n",
    "    len(x) == 2 and\n",
    "    isinstance(x[0], (tuple,list,numpy.ndarray)) and\n",
    "    len(x[0]) == 2 and\n",
    "    isinstance(x[1], float)\n",
    "    for X in (X1, X2, X3)\n",
    "    for x in X\n",
    ")\n",
    "\n",
    "print('Test passed!')"
   ]
  },
  {
   "attachments": {},
   "cell_type": "markdown",
   "metadata": {},
   "source": [
    "## Function Approximation\n",
    "\n",
    "Finally, we want to make use of our gradient descent implementation to approximate our functions. In order to see our success, we want to plot the functions together with the data.\n",
    "\n",
    "### Task 5 (theoretical question)\n",
    "\n",
    "When looking at the example plots in the exercise slides (exemplary solutions for the plotting Task 8), how many hidden neurons $K$ do we need in order to approximate the functions? Is there any difference between the three target functions? **Please discuss it in the markdown cell below:**"
   ]
  },
  {
   "cell_type": "markdown",
   "metadata": {},
   "source": [
    "The first function have three monotonic intervals so we need 3 neurons for solving 3 different XOR problems. The second funcion has two intervals so we choose K=2. The last function does not have a relatively long interval and its bouncing up and down, so we should have significantly as more as possible to capture all the attributes."
   ]
  },
  {
   "cell_type": "code",
   "execution_count": 28,
   "metadata": {},
   "outputs": [],
   "source": [
    "# Define the number of neurons for each target function based on your discussion\n",
    "K1 = 3\n",
    "K2 = 2\n",
    "K3 = 30"
   ]
  },
  {
   "attachments": {},
   "cell_type": "markdown",
   "metadata": {},
   "source": [
    "### Task 6\n",
    "\n",
    "For each of the datasets, randomly initialize the parameters $\\Theta_1,\\Theta_2,\\Theta_3\\in[-1,1]$ according to the number of hidden neurons estimated in Task 5.\n",
    "\n",
    "Note:\n",
    "\n",
    "  1. You can use `numpy.random.uniform` to initialize the weights.\n",
    "  2. Make sure that the weight matrices are instantiated in the correct dimensions."
   ]
  },
  {
   "cell_type": "code",
   "execution_count": 29,
   "metadata": {},
   "outputs": [],
   "source": [
    "Theta1 = numpy.random.uniform(low=-1, high=1, size=(K1, 2)), numpy.random.uniform(low=-1, high=1, size=(K1+1))\n",
    "Theta2 = numpy.random.uniform(low=-1, high=1, size=(K2, 2)), numpy.random.uniform(low=-1, high=1, size=(K2+1))\n",
    "Theta3 = numpy.random.uniform(low=-1, high=1, size=(K3, 2)), numpy.random.uniform(low=-1, high=1, size=(K3+1))"
   ]
  },
  {
   "attachments": {},
   "cell_type": "markdown",
   "metadata": {},
   "source": [
    "### Task 7\n",
    "\n",
    "Call gradient descent function from Task 3 using the datasets $X_1, X_2, X_3$, the according created parameters $\\Theta_1,\\Theta_2,\\Theta_3$. Store the resulting optimized weights $\\Theta_1^*, \\Theta_2^*, \\Theta_3^*$ and the loss values.\n",
    "\n",
    "**Please discuss first the appropriate learning rate $\\eta$  for each of the three functions in the markdown cell below.** Based on your learning rates, you may neeed to optimize the learning rate $\\eta$ for these functions. Do you see any differences? What are the best learning rates that you can find?\n",
    "\n",
    "WARNING: Depending on the implementation, this might run for several minutes!"
   ]
  },
  {
   "cell_type": "markdown",
   "metadata": {},
   "source": [
    "..."
   ]
  },
  {
   "cell_type": "code",
   "execution_count": 30,
   "metadata": {},
   "outputs": [],
   "source": [
    "# Call gradient descent function using the datasets and initial weights that you created above\n",
    "# Choose appropriate learning rates for each function\n",
    "Theta1 = gradient_descent(X1, Theta1, eta=1)\n",
    "Theta2 = gradient_descent(X2, Theta2, eta=1)\n",
    "Theta3 = gradient_descent(X3, Theta3, eta=0.01)"
   ]
  },
  {
   "attachments": {},
   "cell_type": "markdown",
   "metadata": {},
   "source": [
    "## Data and Function Plotting\n",
    "\n",
    "### Task 8\n",
    "\n",
    "Implement a plotting function that takes a given dataset $X$, given parameters $\\Theta$ and a defined range $R=[min,max]$. Each data sample $(x^{[n]},t^{[n]})$ of the dataset is plotted as an $''x''$. In order to plot the function that is approximated by the network, generate sufficient equally-spaced input values $x\\in R$, compute the network output $y$ for these inputs, and plot them with a line.\n",
    "\n",
    "Note:\n",
    "\n",
    "  1. The dataset $X$ is defined as above, a list of tuples $(\\vec x, t)$.\n",
    "  2. Each input in the dataset is defined as $\\vec x = (1,x)^T$.\n",
    "  3. Equidistant points can be obtained via `numpy.arange`."
   ]
  },
  {
   "cell_type": "code",
   "execution_count": 31,
   "metadata": {},
   "outputs": [],
   "source": [
    "from matplotlib import pyplot\n",
    "def plot(X, Theta, R):\n",
    "  # first, plot data samples\n",
    "  pyplot.plot([x[1] for x, _ in X], [t for x, t in X], \"rx\", label=\"Data\")\n",
    "\n",
    "  # define equidistant points from min (R[0]) to max (R[1]) to evaluate the network\n",
    "  x = numpy.linspace(R[0], R[1], 100)\n",
    "  # compute the network outputs for these values\n",
    "  y = []\n",
    "  for dot in x:\n",
    "    y.append(network((1, dot), Theta)[0])\n",
    "  # plot network approximation\n",
    "  pyplot.plot(x,y,\"k-\", label=\"network\")\n",
    "  pyplot.legend()"
   ]
  },
  {
   "attachments": {},
   "cell_type": "markdown",
   "metadata": {},
   "source": [
    "### Task 9\n",
    "\n",
    "For each of the datasets and their according optimized parameters, call the plotting function from Task 8. Use range $R=[-1.5,1.5]$ for dataset $X_1$ and $X_2$, and range $R=[-5,4]$ for dataset $X_3$. Note that the first element of range $R$ should be the lowest $x$-location, and the second element of $R$ the highest value for $x$. Did the networks approximate the functions? What can we do if not?"
   ]
  },
  {
   "cell_type": "code",
   "execution_count": 32,
   "metadata": {},
   "outputs": [
    {
     "data": {
      "image/png": "[encoded data removed]",
      "text/plain": [
       "<Figure size 720x216 with 3 Axes>"
      ]
     },
     "metadata": {
      "needs_background": "light"
     },
     "output_type": "display_data"
    }
   ],
   "source": [
    "figure = pyplot.figure(figsize=(10,3))\n",
    "\n",
    "# plot first function\n",
    "pyplot.subplot(131)\n",
    "plot(X1, Theta1, [-1.5, 1.5])\n",
    "\n",
    "# plot second function\n",
    "pyplot.subplot(132)\n",
    "plot(X2, Theta2, [-1.5, 1.5])\n",
    "\n",
    "# plot third function\n",
    "pyplot.subplot(133)\n",
    "plot(X3, Theta3, [-5, 4])"
   ]
  }
 ],
 "metadata": {
  "interpreter": {
   "hash": "2dd53f8ad749bca69f7250ce75eb4f0def59db5cf79075a9716322ffc58e8a2e"
  },
  "kernelspec": {
   "display_name": "Python 3 (ipykernel)",
   "language": "python",
   "name": "python3"
  },
  "language_info": {
   "codemirror_mode": {
    "name": "ipython",
    "version": 3
   },
   "file_extension": ".py",
   "mimetype": "text/x-python",
   "name": "python",
   "nbconvert_exporter": "python",
   "pygments_lexer": "ipython3",
   "version": "3.11.5"
  },
  "orig_nbformat": 4
 },
 "nbformat": 4,
 "nbformat_minor": 2
}
